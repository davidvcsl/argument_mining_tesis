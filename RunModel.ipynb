{
 "cells": [
  {
   "cell_type": "markdown",
   "metadata": {},
   "source": [
    "# Ejemplo de uso de modelos entrenados."
   ]
  },
  {
   "cell_type": "code",
   "execution_count": 1,
   "metadata": {},
   "outputs": [
    {
     "name": "stderr",
     "output_type": "stream",
     "text": [
      "Using TensorFlow backend.\n"
     ]
    }
   ],
   "source": [
    "from __future__ import print_function\n",
    "import nltk\n",
    "from util.preprocessing import addCharInformation, createMatrices, addCasingInformation\n",
    "from neuralnets.BiLSTM import BiLSTM\n",
    "import sys"
   ]
  },
  {
   "cell_type": "markdown",
   "metadata": {},
   "source": [
    "# Carga de modelo preentrenado."
   ]
  },
  {
   "cell_type": "code",
   "execution_count": 3,
   "metadata": {},
   "outputs": [],
   "source": [
    "lstmModel = BiLSTM()\n",
    "lstmModel.loadModel(\"models/am/AM_TAG/0.3880_0.4147_12.h5\")"
   ]
  },
  {
   "cell_type": "markdown",
   "metadata": {},
   "source": [
    "# Carga de texto de prueba \"test_.txt\""
   ]
  },
  {
   "cell_type": "code",
   "execution_count": 4,
   "metadata": {},
   "outputs": [
    {
     "data": {
      "text/plain": [
       "'International tourism is now more common than ever before The last 50 years have seen a significant increase in the number of tourist traveling worldwide . While some might think the tourism bring large profit for the destination countries , I would contend that this industry has affected the cultural attributes and damaged the natural environment of the tourist destinations . Firstly , it is an undeniable fact that tourists from different cultures will probably cause changes to the cultural identity of the tourist destinations . Take Thailand for example , in the Vietnam War , many American soldiers came to Thailand for a break and involved in sexual and drug activities , these huge demands caused many local businesses opened and expanded , even illegally involved in under - age prostitutes to maximize their profits . This was due to the lack of adequate controls by authorities and lead to a bad image of Thailand tourism . Therefore this proves that international tourism can create ne'"
      ]
     },
     "execution_count": 4,
     "metadata": {},
     "output_type": "execute_result"
    }
   ],
   "source": [
    "with open(\"test_.txt\", 'r') as f:\n",
    "    text = f.read()\n",
    "    if len(text.split(\"\\t\"))>1:\n",
    "        os.system('python util/conll_to_txt.py --input={} --output={}_txt --target_column={}'.format(\"test_.txt\",\"test_.txt\",1))\n",
    "        with open(\"test_.txt_txt\", 'r') as newf:\n",
    "            text = newf.read()\n",
    "text[:1000]"
   ]
  },
  {
   "cell_type": "markdown",
   "metadata": {},
   "source": [
    "# Preparación previa de nuestro texto a evaluar"
   ]
  },
  {
   "cell_type": "code",
   "execution_count": 5,
   "metadata": {},
   "outputs": [
    {
     "data": {
      "text/plain": [
       "['International',\n",
       " 'tourism',\n",
       " 'is',\n",
       " 'now',\n",
       " 'more',\n",
       " 'common',\n",
       " 'than',\n",
       " 'ever',\n",
       " 'before',\n",
       " 'The']"
      ]
     },
     "execution_count": 5,
     "metadata": {},
     "output_type": "execute_result"
    }
   ],
   "source": [
    "paragraphs = filter(lambda x: x != '', text.splitlines())\n",
    "sentences = [{'tokens': nltk.word_tokenize(par)} for par in paragraphs]\n",
    "sentences[0]['tokens'][:10]"
   ]
  },
  {
   "cell_type": "code",
   "execution_count": 7,
   "metadata": {},
   "outputs": [
    {
     "name": "stdout",
     "output_type": "stream",
     "text": [
      "tokens ['International', 'tourism', 'is', 'now', 'more', 'common', 'than', 'ever', 'before', 'The']\n",
      "casing ['initialUpper', 'allLower', 'allLower', 'allLower', 'allLower', 'allLower', 'allLower', 'allLower', 'allLower', 'initialUpper']\n",
      "characters [['I', 'n', 't', 'e', 'r', 'n', 'a', 't', 'i', 'o', 'n', 'a', 'l'], ['t', 'o', 'u', 'r', 'i', 's', 'm'], ['i', 's'], ['n', 'o', 'w'], ['m', 'o', 'r', 'e'], ['c', 'o', 'm', 'm', 'o', 'n'], ['t', 'h', 'a', 'n'], ['e', 'v', 'e', 'r'], ['b', 'e', 'f', 'o', 'r', 'e'], ['T', 'h', 'e']]\n"
     ]
    }
   ],
   "source": [
    "addCharInformation(sentences)\n",
    "addCasingInformation(sentences)\n",
    "for key in sentences[0].keys():\n",
    "    print(key, sentences[0][key][:10])\n"
   ]
  },
  {
   "cell_type": "code",
   "execution_count": 8,
   "metadata": {},
   "outputs": [
    {
     "name": "stdout",
     "output_type": "stream",
     "text": [
      "AM_TAG []\n",
      "casing [6, 4, 4, 4, 4, 4, 4, 4, 4, 6]\n",
      "raw_tokens ['International', 'tourism', 'is', 'now', 'more', 'common', 'than', 'ever', 'before', 'The']\n",
      "label []\n",
      "tokens [444, 5023, 5, 314, 88, 823, 246, 1681, 367, 2]\n",
      "characters [[47, 26, 32, 17, 30, 26, 13, 32, 21, 27, 26, 13, 24], [32, 27, 33, 30, 21, 31, 25], [21, 31], [26, 27, 35], [25, 27, 30, 17], [15, 27, 25, 25, 27, 26], [32, 20, 13, 26], [17, 34, 17, 30], [14, 17, 18, 27, 30, 17], [58, 20, 17]]\n"
     ]
    }
   ],
   "source": [
    "dataMatrix = createMatrices(sentences, lstmModel.mappings)\n",
    "for key in dataMatrix[0].keys():\n",
    "    print(key, dataMatrix[0][key][:10])"
   ]
  },
  {
   "cell_type": "markdown",
   "metadata": {},
   "source": [
    "# Ahora si, usemos nuestro modelo para identificar argumentos"
   ]
  },
  {
   "cell_type": "code",
   "execution_count": 11,
   "metadata": {},
   "outputs": [
    {
     "data": {
      "text/plain": [
       "[u'O',\n",
       " u'O',\n",
       " u'O',\n",
       " u'O',\n",
       " u'O',\n",
       " u'O',\n",
       " u'O',\n",
       " u'O',\n",
       " u'O',\n",
       " u'O',\n",
       " u'O',\n",
       " u'O',\n",
       " u'O',\n",
       " u'O',\n",
       " u'O',\n",
       " u'O',\n",
       " u'O',\n",
       " u'O',\n",
       " u'O',\n",
       " u'O',\n",
       " u'O',\n",
       " u'O',\n",
       " u'O',\n",
       " u'O',\n",
       " u'O',\n",
       " u'O',\n",
       " u'O',\n",
       " u'O',\n",
       " u'O',\n",
       " u'O',\n",
       " u'O',\n",
       " u'O',\n",
       " u'O',\n",
       " u'O',\n",
       " u'O',\n",
       " u'O',\n",
       " u'O',\n",
       " u'O',\n",
       " u'O',\n",
       " u'O',\n",
       " u'O',\n",
       " u'O',\n",
       " u'O',\n",
       " u'O',\n",
       " u'MajorClaim',\n",
       " u'MajorClaim',\n",
       " u'MajorClaim',\n",
       " u'MajorClaim',\n",
       " u'MajorClaim',\n",
       " u'MajorClaim']"
      ]
     },
     "execution_count": 11,
     "metadata": {},
     "output_type": "execute_result"
    }
   ],
   "source": [
    "tags = lstmModel.tagSentences(dataMatrix)\n",
    "tags[0][:50]"
   ]
  },
  {
   "cell_type": "markdown",
   "metadata": {},
   "source": [
    "# Veamos los resultados humanizados"
   ]
  },
  {
   "cell_type": "code",
   "execution_count": 16,
   "metadata": {},
   "outputs": [
    {
     "name": "stdout",
     "output_type": "stream",
     "text": [
      "International\tO\n",
      "tourism\tO\n",
      "is\tO\n",
      "now\tO\n",
      "more\tO\n",
      "common\tO\n",
      "than\tO\n",
      "ever\tO\n",
      "before\tO\n",
      "The\tO\n",
      "last\tO\n",
      "50\tO\n",
      "years\tO\n",
      "have\tO\n",
      "seen\tO\n",
      "a\tO\n",
      "significant\tO\n",
      "increase\tO\n",
      "in\tO\n",
      "the\tO\n",
      "number\tO\n",
      "of\tO\n",
      "tourist\tO\n",
      "traveling\tO\n",
      "worldwide\tO\n",
      ".\tO\n",
      "While\tO\n",
      "some\tO\n",
      "might\tO\n",
      "think\tO\n",
      "the\tO\n",
      "tourism\tO\n",
      "bring\tO\n",
      "large\tO\n",
      "profit\tO\n",
      "for\tO\n",
      "the\tO\n",
      "destination\tO\n",
      "countries\tO\n",
      ",\tO\n",
      "I\tO\n",
      "would\tO\n",
      "contend\tO\n",
      "that\tO\n",
      "this\tMajorClaim\n",
      "industry\tMajorClaim\n",
      "has\tMajorClaim\n",
      "affected\tMajorClaim\n",
      "the\tMajorClaim\n",
      "cultural\tMajorClaim\n",
      "\n",
      "Living\tO\n",
      "and\tO\n",
      "studying\tO\n",
      "overseas\tO\n",
      "It\tO\n",
      "is\tO\n",
      "every\tO\n",
      "student\tO\n",
      "'\tO\n",
      "s\tO\n",
      "desire\tO\n",
      "to\tO\n",
      "study\tO\n",
      "at\tO\n",
      "a\tO\n",
      "good\tO\n",
      "university\tO\n",
      "and\tO\n",
      "experience\tO\n",
      "a\tO\n",
      "new\tO\n",
      "environment\tO\n",
      ".\tO\n",
      "While\tO\n",
      "some\tO\n",
      "students\tO\n",
      "study\tO\n",
      "and\tO\n",
      "live\tO\n",
      "overseas\tO\n",
      "to\tO\n",
      "achieve\tO\n",
      "this\tO\n",
      ",\tO\n",
      "some\tO\n",
      "prefer\tO\n",
      "to\tO\n",
      "study\tO\n",
      "home\tO\n",
      "because\tO\n",
      "of\tO\n",
      "the\tO\n",
      "difficulties\tO\n",
      "of\tO\n",
      "living\tO\n",
      "and\tO\n",
      "studying\tO\n",
      "overseas\tO\n",
      ".\tO\n",
      "In\tO\n",
      "\n"
     ]
    }
   ],
   "source": [
    "for sentenceIdx in range(len(sentences[:2])):\n",
    "    tokens = sentences[sentenceIdx]['tokens']\n",
    "    tokenTags = tags[sentenceIdx]\n",
    "    for tokenIdx in range(len(tokens[:50])):\n",
    "        print(\"{}\\t{}\".format(tokens[tokenIdx], tokenTags[tokenIdx]))\n",
    "    print(\"\")"
   ]
  },
  {
   "cell_type": "code",
   "execution_count": null,
   "metadata": {},
   "outputs": [],
   "source": []
  }
 ],
 "metadata": {
  "kernelspec": {
   "display_name": "am_python2.7",
   "language": "python",
   "name": "am_python2.7"
  },
  "language_info": {
   "codemirror_mode": {
    "name": "ipython",
    "version": 2
   },
   "file_extension": ".py",
   "mimetype": "text/x-python",
   "name": "python",
   "nbconvert_exporter": "python",
   "pygments_lexer": "ipython2",
   "version": "2.7.12"
  }
 },
 "nbformat": 4,
 "nbformat_minor": 2
}
